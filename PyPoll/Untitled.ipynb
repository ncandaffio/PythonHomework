{
 "cells": [
  {
   "cell_type": "code",
   "execution_count": 1,
   "metadata": {},
   "outputs": [],
   "source": [
    "import csv\n",
    "\n",
    "candidates = []\n",
    "votes = 0\n",
    "results = dict()\n",
    "precents = dict()\n",
    "\n",
    "path = \"election_data.csv\"\n",
    "with  open(path,newline =\"\") as csv_reader:\n",
    "    data = csv.reader(csv_reader, delimiter=',')\n",
    "\n",
    "    headers = next(data)\n",
    "\n",
    "    for row in data:\n",
    "        if row[2] in candidates:\n",
    "            results[row[2]] += 1\n",
    "        else:\n",
    "            candidates.append(row[2])\n",
    "            results.update({row[2]:1})\n",
    "\n",
    "        votes += 1\n",
    "\n",
    "for c in candidates:\n",
    "    precents.update({c:results[c]/votes})\n"
   ]
  },
  {
   "cell_type": "code",
   "execution_count": 2,
   "metadata": {},
   "outputs": [
    {
     "data": {
      "text/plain": [
       "0.6300001050837531"
      ]
     },
     "execution_count": 2,
     "metadata": {},
     "output_type": "execute_result"
    }
   ],
   "source": [
    "winner_percent = max(precents.values())\n",
    "winner_percent"
   ]
  },
  {
   "cell_type": "code",
   "execution_count": 8,
   "metadata": {},
   "outputs": [
    {
     "data": {
      "text/plain": [
       "['Khan']"
      ]
     },
     "execution_count": 8,
     "metadata": {},
     "output_type": "execute_result"
    }
   ],
   "source": [
    "winner_name = [name for name, number in precents.items() if number == winner_percent]\n",
    "winner_name"
   ]
  }
 ],
 "metadata": {
  "kernelspec": {
   "display_name": "Python [conda env:PythonData2]",
   "language": "python",
   "name": "conda-env-PythonData2-py"
  },
  "language_info": {
   "codemirror_mode": {
    "name": "ipython",
    "version": 3
   },
   "file_extension": ".py",
   "mimetype": "text/x-python",
   "name": "python",
   "nbconvert_exporter": "python",
   "pygments_lexer": "ipython3",
   "version": "3.6.7"
  }
 },
 "nbformat": 4,
 "nbformat_minor": 2
}
